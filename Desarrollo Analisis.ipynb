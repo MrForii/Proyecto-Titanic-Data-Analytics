{
 "cells": [
  {
   "cell_type": "markdown",
   "id": "0530492c-d9e4-4a18-a605-205191388276",
   "metadata": {},
   "source": [
    "# Analisis Base de Datos 'Titanic'\n",
    "\n",
    "# Explorando el Titanic a través del Análisis de Datos\n",
    "\n",
    "El análisis de datos es una disciplina que implica la exploración, limpieza y modelado de información para revelar patrones y tendencias. A través de herramientas estadísticas y visuales, buscamos extraer conocimientos significativos que respalden decisiones informadas en diversos ámbitos.\n",
    "\n",
    "## Herramientas Visuales: Gráficos y Tablas\n",
    "\n",
    "En este viaje de descubrimiento, nos apoyaremos en gráficos y tablas como herramientas cruciales. Estos elementos visuales no solo hacen que los datos sean comprensibles, sino que también permiten identificar patrones visuales y comunicar hallazgos de manera efectiva. En la travesía del Titanic, estos recursos nos ayudarán a contar la historia detrás de los números.\n",
    "\n",
    "## Presentando el Proyecto\n",
    "\n",
    "En este proyecto, utilizaremos dos librerías fundamentales:\n",
    "\n",
    "- *Pandas:* Facilitará la manipulación y análisis de datos tabulares.\n",
    "- *Seaborn:* Brindará la capacidad de crear visualizaciones impactantes.\n",
    "\n",
    "A través de estas herramientas, exploraremos el dataset del Titanic, desentrañando misterios y respondiendo preguntas clave sobre los factores que influyeron en la supervivencia durante este evento histórico.\n"
   ]
  },
  {
   "cell_type": "markdown",
   "id": "ef3d2cf3-51fb-495a-b60c-2d8cb3670cf4",
   "metadata": {
    "tags": []
   },
   "source": [
    "#### Import de librerias"
   ]
  },
  {
   "cell_type": "code",
   "execution_count": 2,
   "id": "2bf56710-5031-43bd-a3bd-a249d050e41f",
   "metadata": {
    "tags": []
   },
   "outputs": [],
   "source": [
    "import pandas as pd\n",
    "\n",
    "import numpy as np\n",
    "import seaborn as sns\n",
    "sns.set_style('darkgrid')"
   ]
  },
  {
   "cell_type": "markdown",
   "id": "d5957696-6935-479a-b474-1b40662b708c",
   "metadata": {},
   "source": [
    "#### Carga de Base de Datos"
   ]
  },
  {
   "cell_type": "code",
   "execution_count": 7,
   "id": "b2463bbe-8a76-45ba-9fd0-d89ec0da269a",
   "metadata": {
    "tags": []
   },
   "outputs": [],
   "source": [
    "# Importamos titanic.csv e indicamos que el indice sera la columna PassengerId\n",
    "\n",
    "df = pd.read_csv('titanic.csv', index_col = 'PassengerId')"
   ]
  },
  {
   "cell_type": "markdown",
   "id": "1dab52ce-db1c-432f-aee1-2c931beb928b",
   "metadata": {
    "tags": []
   },
   "source": [
    "#### Mostramos los primeros 10 registros de nuestra tabla para verificar la carga"
   ]
  },
  {
   "cell_type": "code",
   "execution_count": 92,
   "id": "41727561-1eb7-4aa3-b52c-3ad0842d3b31",
   "metadata": {
    "tags": []
   },
   "outputs": [
    {
     "data": {
      "text/html": [
       "<div>\n",
       "<style scoped>\n",
       "    .dataframe tbody tr th:only-of-type {\n",
       "        vertical-align: middle;\n",
       "    }\n",
       "\n",
       "    .dataframe tbody tr th {\n",
       "        vertical-align: top;\n",
       "    }\n",
       "\n",
       "    .dataframe thead th {\n",
       "        text-align: right;\n",
       "    }\n",
       "</style>\n",
       "<table border=\"1\" class=\"dataframe\">\n",
       "  <thead>\n",
       "    <tr style=\"text-align: right;\">\n",
       "      <th></th>\n",
       "      <th>Survived</th>\n",
       "      <th>Pclass</th>\n",
       "      <th>Name</th>\n",
       "      <th>Sex</th>\n",
       "      <th>Age</th>\n",
       "      <th>SibSp</th>\n",
       "      <th>Parch</th>\n",
       "      <th>Ticket</th>\n",
       "      <th>Fare</th>\n",
       "      <th>Embarked</th>\n",
       "    </tr>\n",
       "    <tr>\n",
       "      <th>PassengerId</th>\n",
       "      <th></th>\n",
       "      <th></th>\n",
       "      <th></th>\n",
       "      <th></th>\n",
       "      <th></th>\n",
       "      <th></th>\n",
       "      <th></th>\n",
       "      <th></th>\n",
       "      <th></th>\n",
       "      <th></th>\n",
       "    </tr>\n",
       "  </thead>\n",
       "  <tbody>\n",
       "    <tr>\n",
       "      <th>1</th>\n",
       "      <td>0</td>\n",
       "      <td>3</td>\n",
       "      <td>Braund, Mr. Owen Harris</td>\n",
       "      <td>male</td>\n",
       "      <td>22.0</td>\n",
       "      <td>1</td>\n",
       "      <td>0</td>\n",
       "      <td>A/5 21171</td>\n",
       "      <td>7.2500</td>\n",
       "      <td>S</td>\n",
       "    </tr>\n",
       "    <tr>\n",
       "      <th>2</th>\n",
       "      <td>1</td>\n",
       "      <td>1</td>\n",
       "      <td>Cumings, Mrs. John Bradley (Florence Briggs Th...</td>\n",
       "      <td>female</td>\n",
       "      <td>38.0</td>\n",
       "      <td>1</td>\n",
       "      <td>0</td>\n",
       "      <td>PC 17599</td>\n",
       "      <td>71.2833</td>\n",
       "      <td>C</td>\n",
       "    </tr>\n",
       "    <tr>\n",
       "      <th>3</th>\n",
       "      <td>1</td>\n",
       "      <td>3</td>\n",
       "      <td>Heikkinen, Miss. Laina</td>\n",
       "      <td>female</td>\n",
       "      <td>26.0</td>\n",
       "      <td>0</td>\n",
       "      <td>0</td>\n",
       "      <td>STON/O2. 3101282</td>\n",
       "      <td>7.9250</td>\n",
       "      <td>S</td>\n",
       "    </tr>\n",
       "    <tr>\n",
       "      <th>4</th>\n",
       "      <td>1</td>\n",
       "      <td>1</td>\n",
       "      <td>Futrelle, Mrs. Jacques Heath (Lily May Peel)</td>\n",
       "      <td>female</td>\n",
       "      <td>35.0</td>\n",
       "      <td>1</td>\n",
       "      <td>0</td>\n",
       "      <td>113803</td>\n",
       "      <td>53.1000</td>\n",
       "      <td>S</td>\n",
       "    </tr>\n",
       "    <tr>\n",
       "      <th>5</th>\n",
       "      <td>0</td>\n",
       "      <td>3</td>\n",
       "      <td>Allen, Mr. William Henry</td>\n",
       "      <td>male</td>\n",
       "      <td>35.0</td>\n",
       "      <td>0</td>\n",
       "      <td>0</td>\n",
       "      <td>373450</td>\n",
       "      <td>8.0500</td>\n",
       "      <td>S</td>\n",
       "    </tr>\n",
       "  </tbody>\n",
       "</table>\n",
       "</div>"
      ],
      "text/plain": [
       "             Survived  Pclass  \\\n",
       "PassengerId                     \n",
       "1                   0       3   \n",
       "2                   1       1   \n",
       "3                   1       3   \n",
       "4                   1       1   \n",
       "5                   0       3   \n",
       "\n",
       "                                                          Name     Sex   Age  \\\n",
       "PassengerId                                                                    \n",
       "1                                      Braund, Mr. Owen Harris    male  22.0   \n",
       "2            Cumings, Mrs. John Bradley (Florence Briggs Th...  female  38.0   \n",
       "3                                       Heikkinen, Miss. Laina  female  26.0   \n",
       "4                 Futrelle, Mrs. Jacques Heath (Lily May Peel)  female  35.0   \n",
       "5                                     Allen, Mr. William Henry    male  35.0   \n",
       "\n",
       "             SibSp  Parch            Ticket     Fare Embarked  \n",
       "PassengerId                                                    \n",
       "1                1      0         A/5 21171   7.2500        S  \n",
       "2                1      0          PC 17599  71.2833        C  \n",
       "3                0      0  STON/O2. 3101282   7.9250        S  \n",
       "4                1      0            113803  53.1000        S  \n",
       "5                0      0            373450   8.0500        S  "
      ]
     },
     "execution_count": 92,
     "metadata": {},
     "output_type": "execute_result"
    }
   ],
   "source": [
    "df.head()"
   ]
  },
  {
   "cell_type": "markdown",
   "id": "0eb44667-9403-45c3-b912-de644cf4fc20",
   "metadata": {},
   "source": [
    "#### Detalle de Contenido del Columnas del Dataset\n",
    "\n",
    "**TITANIC Dataset**\n",
    "* **Pclass** Clase del pasajero *(1 = 1st; 2 = 2nd; 3 = 3rd)*\n",
    "* **Survived** Si el pasajero sobrevivió o no *(0 = No; 1 = Si)*\n",
    "* **Name:** Nombre\n",
    "* **Sex:** Sexo\n",
    "* **Age:** Edad\n",
    "* **Sibsp:** Número de hermanos / cónyuges a bordo\n",
    "* **Parch:** Número de padres / niños a bordo\n",
    "* **Ticket:** Numero de Ticket \n",
    "* **Fare:** Tarifa de pasajero *(libra esterlina)*\n",
    "* **Cabin:** Cabina\n",
    "* **Embarked:** Puerto de embarque *(C = Cherbourg; Q = Queenstown; S = Southampton)*"
   ]
  },
  {
   "cell_type": "markdown",
   "id": "ba861bb8-88a8-4880-b2c8-61a02cc63621",
   "metadata": {},
   "source": [
    "#### Obtenemos informacion general de la tabla"
   ]
  },
  {
   "cell_type": "code",
   "execution_count": 8,
   "id": "1ad7c58a-be4c-4353-96e9-ca9554a374dd",
   "metadata": {
    "tags": []
   },
   "outputs": [
    {
     "name": "stdout",
     "output_type": "stream",
     "text": [
      "<class 'pandas.core.frame.DataFrame'>\n",
      "Index: 891 entries, 1 to 891\n",
      "Data columns (total 11 columns):\n",
      " #   Column    Non-Null Count  Dtype  \n",
      "---  ------    --------------  -----  \n",
      " 0   Survived  891 non-null    int64  \n",
      " 1   Pclass    891 non-null    int64  \n",
      " 2   Name      891 non-null    object \n",
      " 3   Sex       891 non-null    object \n",
      " 4   Age       714 non-null    float64\n",
      " 5   SibSp     891 non-null    int64  \n",
      " 6   Parch     891 non-null    int64  \n",
      " 7   Ticket    891 non-null    object \n",
      " 8   Fare      891 non-null    float64\n",
      " 9   Cabin     204 non-null    object \n",
      " 10  Embarked  889 non-null    object \n",
      "dtypes: float64(2), int64(4), object(5)\n",
      "memory usage: 83.5+ KB\n"
     ]
    }
   ],
   "source": [
    "df.info()"
   ]
  },
  {
   "cell_type": "markdown",
   "id": "bceac838-8800-424f-9831-519cce4a6ee4",
   "metadata": {
    "tags": []
   },
   "source": [
    "### Analisis:\n",
    "- Tenemos 11 columnas en total\n",
    "- Un total de 891 registros\n",
    "- La tabla posee distintos tipos de datos, los mismos son:\n",
    "    1. int64 (Survived, Pclass, SibSp, Parch)\n",
    "    2. object (Name, Sex, Ticket, Cabin, Embarked)\n",
    "    3. float64 (Age, Fare)\n",
    "- Tenemos columnas con datos incompletos, estas son\n",
    "    1. Age (posee 714 registros de 891)\n",
    "    2. Cabin (posee 204 registros de 891)\n",
    "    3. Embarked (posee 889 registros de 891)\n"
   ]
  },
  {
   "cell_type": "markdown",
   "id": "f9c13109-ae48-41ac-8e57-6aaf3b90808f",
   "metadata": {},
   "source": [
    "#### Observamos un resumen de las medidas de cada columna del Dataframe"
   ]
  },
  {
   "cell_type": "code",
   "execution_count": 14,
   "id": "d8b0a55d-bf2a-48d8-ad2f-be7c2163f829",
   "metadata": {
    "tags": []
   },
   "outputs": [
    {
     "data": {
      "text/html": [
       "<div>\n",
       "<style scoped>\n",
       "    .dataframe tbody tr th:only-of-type {\n",
       "        vertical-align: middle;\n",
       "    }\n",
       "\n",
       "    .dataframe tbody tr th {\n",
       "        vertical-align: top;\n",
       "    }\n",
       "\n",
       "    .dataframe thead th {\n",
       "        text-align: right;\n",
       "    }\n",
       "</style>\n",
       "<table border=\"1\" class=\"dataframe\">\n",
       "  <thead>\n",
       "    <tr style=\"text-align: right;\">\n",
       "      <th></th>\n",
       "      <th>Survived</th>\n",
       "      <th>Pclass</th>\n",
       "      <th>Age</th>\n",
       "      <th>SibSp</th>\n",
       "      <th>Parch</th>\n",
       "      <th>Fare</th>\n",
       "    </tr>\n",
       "  </thead>\n",
       "  <tbody>\n",
       "    <tr>\n",
       "      <th>count</th>\n",
       "      <td>891.000000</td>\n",
       "      <td>891.000000</td>\n",
       "      <td>714.000000</td>\n",
       "      <td>891.000000</td>\n",
       "      <td>891.000000</td>\n",
       "      <td>891.000000</td>\n",
       "    </tr>\n",
       "    <tr>\n",
       "      <th>mean</th>\n",
       "      <td>0.383838</td>\n",
       "      <td>2.308642</td>\n",
       "      <td>29.699118</td>\n",
       "      <td>0.523008</td>\n",
       "      <td>0.381594</td>\n",
       "      <td>32.204208</td>\n",
       "    </tr>\n",
       "    <tr>\n",
       "      <th>std</th>\n",
       "      <td>0.486592</td>\n",
       "      <td>0.836071</td>\n",
       "      <td>14.526497</td>\n",
       "      <td>1.102743</td>\n",
       "      <td>0.806057</td>\n",
       "      <td>49.693429</td>\n",
       "    </tr>\n",
       "    <tr>\n",
       "      <th>min</th>\n",
       "      <td>0.000000</td>\n",
       "      <td>1.000000</td>\n",
       "      <td>0.420000</td>\n",
       "      <td>0.000000</td>\n",
       "      <td>0.000000</td>\n",
       "      <td>0.000000</td>\n",
       "    </tr>\n",
       "    <tr>\n",
       "      <th>25%</th>\n",
       "      <td>0.000000</td>\n",
       "      <td>2.000000</td>\n",
       "      <td>20.125000</td>\n",
       "      <td>0.000000</td>\n",
       "      <td>0.000000</td>\n",
       "      <td>7.910400</td>\n",
       "    </tr>\n",
       "    <tr>\n",
       "      <th>50%</th>\n",
       "      <td>0.000000</td>\n",
       "      <td>3.000000</td>\n",
       "      <td>28.000000</td>\n",
       "      <td>0.000000</td>\n",
       "      <td>0.000000</td>\n",
       "      <td>14.454200</td>\n",
       "    </tr>\n",
       "    <tr>\n",
       "      <th>75%</th>\n",
       "      <td>1.000000</td>\n",
       "      <td>3.000000</td>\n",
       "      <td>38.000000</td>\n",
       "      <td>1.000000</td>\n",
       "      <td>0.000000</td>\n",
       "      <td>31.000000</td>\n",
       "    </tr>\n",
       "    <tr>\n",
       "      <th>max</th>\n",
       "      <td>1.000000</td>\n",
       "      <td>3.000000</td>\n",
       "      <td>80.000000</td>\n",
       "      <td>8.000000</td>\n",
       "      <td>6.000000</td>\n",
       "      <td>512.329200</td>\n",
       "    </tr>\n",
       "  </tbody>\n",
       "</table>\n",
       "</div>"
      ],
      "text/plain": [
       "         Survived      Pclass         Age       SibSp       Parch        Fare\n",
       "count  891.000000  891.000000  714.000000  891.000000  891.000000  891.000000\n",
       "mean     0.383838    2.308642   29.699118    0.523008    0.381594   32.204208\n",
       "std      0.486592    0.836071   14.526497    1.102743    0.806057   49.693429\n",
       "min      0.000000    1.000000    0.420000    0.000000    0.000000    0.000000\n",
       "25%      0.000000    2.000000   20.125000    0.000000    0.000000    7.910400\n",
       "50%      0.000000    3.000000   28.000000    0.000000    0.000000   14.454200\n",
       "75%      1.000000    3.000000   38.000000    1.000000    0.000000   31.000000\n",
       "max      1.000000    3.000000   80.000000    8.000000    6.000000  512.329200"
      ]
     },
     "execution_count": 14,
     "metadata": {},
     "output_type": "execute_result"
    }
   ],
   "source": [
    "df[['Survived', 'Pclass', 'Age', 'SibSp', 'Parch', 'Fare']].describe()"
   ]
  },
  {
   "cell_type": "markdown",
   "id": "4c8987ce-0c30-4bc2-a694-e0f3d82741da",
   "metadata": {},
   "source": [
    "#### Analisis:\n",
    "- El promedio de pasajeros viajo en clase 2\n",
    "- El 25% de los pasajeros estudiados viajo en clase 2 o superior, mientras que el analisis del 75% de los datos nos indica que viajaron en clase 3 o superior\n",
    "- El promedio de edad de los pasajeros es de 29.69 a;os\n",
    "- La edad minima observada en los pasajeros es de 0.42 años\n",
    "- La edad maxima observada en los pasajeros es de 80 años\n",
    "- La mayoria de las personas fueron con una persona o conyuge al bordo\n",
    "- Al menos una persona viajo con 8 acomapañantes\n",
    "- El valor promedio del boleto fue de 32 libras esterlinas\n",
    "- El valor minimo del boleto registrado es de 0 libras esterlinas\n",
    "- El valor maximo del boleto registrado es de 512 libras esterlinas"
   ]
  },
  {
   "cell_type": "code",
   "execution_count": 15,
   "id": "640afc40-b0b1-4ff5-8bcd-678ddcad3f1a",
   "metadata": {
    "tags": []
   },
   "outputs": [
    {
     "data": {
      "text/html": [
       "<div>\n",
       "<style scoped>\n",
       "    .dataframe tbody tr th:only-of-type {\n",
       "        vertical-align: middle;\n",
       "    }\n",
       "\n",
       "    .dataframe tbody tr th {\n",
       "        vertical-align: top;\n",
       "    }\n",
       "\n",
       "    .dataframe thead th {\n",
       "        text-align: right;\n",
       "    }\n",
       "</style>\n",
       "<table border=\"1\" class=\"dataframe\">\n",
       "  <thead>\n",
       "    <tr style=\"text-align: right;\">\n",
       "      <th></th>\n",
       "      <th>Name</th>\n",
       "      <th>Sex</th>\n",
       "      <th>Ticket</th>\n",
       "      <th>Cabin</th>\n",
       "      <th>Embarked</th>\n",
       "    </tr>\n",
       "  </thead>\n",
       "  <tbody>\n",
       "    <tr>\n",
       "      <th>count</th>\n",
       "      <td>891</td>\n",
       "      <td>891</td>\n",
       "      <td>891</td>\n",
       "      <td>204</td>\n",
       "      <td>889</td>\n",
       "    </tr>\n",
       "    <tr>\n",
       "      <th>unique</th>\n",
       "      <td>891</td>\n",
       "      <td>2</td>\n",
       "      <td>681</td>\n",
       "      <td>147</td>\n",
       "      <td>3</td>\n",
       "    </tr>\n",
       "    <tr>\n",
       "      <th>top</th>\n",
       "      <td>Braund, Mr. Owen Harris</td>\n",
       "      <td>male</td>\n",
       "      <td>347082</td>\n",
       "      <td>B96 B98</td>\n",
       "      <td>S</td>\n",
       "    </tr>\n",
       "    <tr>\n",
       "      <th>freq</th>\n",
       "      <td>1</td>\n",
       "      <td>577</td>\n",
       "      <td>7</td>\n",
       "      <td>4</td>\n",
       "      <td>644</td>\n",
       "    </tr>\n",
       "  </tbody>\n",
       "</table>\n",
       "</div>"
      ],
      "text/plain": [
       "                           Name   Sex  Ticket    Cabin Embarked\n",
       "count                       891   891     891      204      889\n",
       "unique                      891     2     681      147        3\n",
       "top     Braund, Mr. Owen Harris  male  347082  B96 B98        S\n",
       "freq                          1   577       7        4      644"
      ]
     },
     "execution_count": 15,
     "metadata": {},
     "output_type": "execute_result"
    }
   ],
   "source": [
    "df[['Name', 'Sex', 'Ticket', 'Cabin', 'Embarked']].describe()"
   ]
  },
  {
   "cell_type": "markdown",
   "id": "e7fda8dd-5d84-486f-a600-a826d0cc587c",
   "metadata": {},
   "source": [
    "### Analisis\n",
    "- Hubo una mayor cantidad de pasajeros masculinos en el barco, con un total de 577 de 891 pasajeros registrados\n",
    "- Abordaron mas pasajeros en el Puerto de Embarque de Southampton, con un total de 644 pasajeros registrados\n",
    "- El ticket 347082 se emitio 7 veces\n",
    "- La cabina B96 B98 tuvo un total de 4 ocupantes."
   ]
  },
  {
   "cell_type": "markdown",
   "id": "2fddcc3d-3407-4782-9e12-f54fc006ac57",
   "metadata": {},
   "source": [
    "### Calculamos las medidas estadisticas de las columnas que consideramos mas importantes"
   ]
  },
  {
   "cell_type": "code",
   "execution_count": 77,
   "id": "7868cdf7-a419-4093-8fa9-7f87a1e8b2d9",
   "metadata": {
    "tags": []
   },
   "outputs": [
    {
     "data": {
      "text/html": [
       "<div>\n",
       "<style scoped>\n",
       "    .dataframe tbody tr th:only-of-type {\n",
       "        vertical-align: middle;\n",
       "    }\n",
       "\n",
       "    .dataframe tbody tr th {\n",
       "        vertical-align: top;\n",
       "    }\n",
       "\n",
       "    .dataframe thead th {\n",
       "        text-align: right;\n",
       "    }\n",
       "</style>\n",
       "<table border=\"1\" class=\"dataframe\">\n",
       "  <thead>\n",
       "    <tr style=\"text-align: right;\">\n",
       "      <th></th>\n",
       "      <th>Medidas</th>\n",
       "      <th>Age</th>\n",
       "      <th>Fare</th>\n",
       "      <th>Pclass</th>\n",
       "    </tr>\n",
       "  </thead>\n",
       "  <tbody>\n",
       "    <tr>\n",
       "      <th>0</th>\n",
       "      <td>Promedio</td>\n",
       "      <td>29.699118</td>\n",
       "      <td>32.204208</td>\n",
       "      <td>2.308642</td>\n",
       "    </tr>\n",
       "    <tr>\n",
       "      <th>1</th>\n",
       "      <td>Mediana</td>\n",
       "      <td>28.0</td>\n",
       "      <td>14.4542</td>\n",
       "      <td>3.0</td>\n",
       "    </tr>\n",
       "    <tr>\n",
       "      <th>2</th>\n",
       "      <td>Moda</td>\n",
       "      <td>0    24.0\n",
       "Name: Age, dtype: float64</td>\n",
       "      <td>0    8.05\n",
       "Name: Fare, dtype: float64</td>\n",
       "      <td>0    3\n",
       "Name: Pclass, dtype: int64</td>\n",
       "    </tr>\n",
       "  </tbody>\n",
       "</table>\n",
       "</div>"
      ],
      "text/plain": [
       "    Medidas                                  Age  \\\n",
       "0  Promedio                            29.699118   \n",
       "1   Mediana                                 28.0   \n",
       "2      Moda  0    24.0\n",
       "Name: Age, dtype: float64   \n",
       "\n",
       "                                   Fare                             Pclass  \n",
       "0                             32.204208                           2.308642  \n",
       "1                               14.4542                                3.0  \n",
       "2  0    8.05\n",
       "Name: Fare, dtype: float64  0    3\n",
       "Name: Pclass, dtype: int64  "
      ]
     },
     "execution_count": 77,
     "metadata": {},
     "output_type": "execute_result"
    }
   ],
   "source": [
    "age_median = df['Age'].median()\n",
    "fare_median = df['Fare'].median()\n",
    "pclass_median = df['Pclass'].median()\n",
    "\n",
    "age_mode = df['Age'].mode()\n",
    "fare_mode = df['Fare'].mode()\n",
    "pclass_mode = df['Pclass'].mode()\n",
    "\n",
    "age_mean = df['Age'].mean()\n",
    "fare_mean = df['Fare'].mean()\n",
    "pclass_mean = df['Pclass'].mean()\n",
    "\n",
    "titles = ['Promedio', 'Mediana', 'Moda']\n",
    "col_age = [age_mean, age_median, age_mode]\n",
    "col_fare = [fare_mean, fare_median, fare_mode]\n",
    "col_pclass = [pclass_mean, pclass_median, pclass_mode]\n",
    "\n",
    "df2 = pd.DataFrame()\n",
    "\n",
    "df2['Medidas'] = titles\n",
    "df2['Age'] = col_age\n",
    "df2['Fare'] = col_fare\n",
    "df2['Pclass'] = col_pclass\n",
    "\n",
    "df2.head()"
   ]
  },
  {
   "cell_type": "markdown",
   "id": "4a19cf8f-1f63-4d2e-a5ed-fd540cc74631",
   "metadata": {},
   "source": [
    "#### Usamos la función value_counts con cada columna categórica y hacemos un análisis de los valores únicos y sus frecuencias según veamos necesario."
   ]
  },
  {
   "cell_type": "code",
   "execution_count": 19,
   "id": "8eda7269-8061-41e5-b307-deacac923419",
   "metadata": {
    "tags": []
   },
   "outputs": [
    {
     "data": {
      "text/plain": [
       "Pclass\n",
       "3    491\n",
       "1    216\n",
       "2    184\n",
       "Name: count, dtype: int64"
      ]
     },
     "execution_count": 19,
     "metadata": {},
     "output_type": "execute_result"
    }
   ],
   "source": [
    "df['Pclass'].value_counts()"
   ]
  },
  {
   "cell_type": "markdown",
   "id": "4da048c7-8b4b-4aa8-b6f9-296b6dd68fec",
   "metadata": {
    "tags": []
   },
   "source": [
    "> 491 Personas viajaron en 3ra clase\n",
    "\n",
    "> 184 Personas viajaron en 2da clase\n",
    "\n",
    "> 216 Personas viajaron en 1ra clase\n"
   ]
  },
  {
   "cell_type": "code",
   "execution_count": 21,
   "id": "093fc80a-f430-4639-a947-faf288e42302",
   "metadata": {
    "tags": []
   },
   "outputs": [
    {
     "data": {
      "text/plain": [
       "Survived\n",
       "0    549\n",
       "1    342\n",
       "Name: count, dtype: int64"
      ]
     },
     "execution_count": 21,
     "metadata": {},
     "output_type": "execute_result"
    }
   ],
   "source": [
    "df['Survived'].value_counts()"
   ]
  },
  {
   "cell_type": "markdown",
   "id": "463bf783-5052-4592-9db0-89973bf505c5",
   "metadata": {},
   "source": [
    "> Sobrevivieron un total de 342 Pasajeros"
   ]
  },
  {
   "cell_type": "code",
   "execution_count": 22,
   "id": "6fa722df-3df0-4b87-86d9-537eb7ee1ffb",
   "metadata": {
    "tags": []
   },
   "outputs": [
    {
     "data": {
      "text/plain": [
       "Sex\n",
       "male      577\n",
       "female    314\n",
       "Name: count, dtype: int64"
      ]
     },
     "execution_count": 22,
     "metadata": {},
     "output_type": "execute_result"
    }
   ],
   "source": [
    "df['Sex'].value_counts()"
   ]
  },
  {
   "cell_type": "markdown",
   "id": "cfc801db-05c9-4b5d-9ca5-905fd4966a64",
   "metadata": {
    "tags": []
   },
   "source": [
    "> Habia un total de 577 pasajeros masculinos\n",
    "\n",
    "> Habia un total de 314 pasajeros femeninos"
   ]
  },
  {
   "cell_type": "code",
   "execution_count": 24,
   "id": "f2085d85-9db7-4482-9091-793976f7ccdf",
   "metadata": {
    "tags": []
   },
   "outputs": [
    {
     "data": {
      "text/plain": [
       "Age\n",
       "24.00    30\n",
       "22.00    27\n",
       "18.00    26\n",
       "19.00    25\n",
       "28.00    25\n",
       "         ..\n",
       "36.50     1\n",
       "55.50     1\n",
       "0.92      1\n",
       "23.50     1\n",
       "74.00     1\n",
       "Name: count, Length: 88, dtype: int64"
      ]
     },
     "execution_count": 24,
     "metadata": {},
     "output_type": "execute_result"
    }
   ],
   "source": [
    "df['Age'].value_counts()"
   ]
  },
  {
   "cell_type": "markdown",
   "id": "ba7a7237-bd6b-4e1f-ad1d-c6639a16dbb6",
   "metadata": {},
   "source": [
    "> Habia un mayor numero de pasajeros registrados con la edad de 24 años"
   ]
  },
  {
   "cell_type": "code",
   "execution_count": 25,
   "id": "ee7f7200-00af-4674-b3cf-ebd16067cf87",
   "metadata": {
    "tags": []
   },
   "outputs": [
    {
     "data": {
      "text/plain": [
       "Fare\n",
       "8.0500     43\n",
       "13.0000    42\n",
       "7.8958     38\n",
       "7.7500     34\n",
       "26.0000    31\n",
       "           ..\n",
       "35.0000     1\n",
       "28.5000     1\n",
       "6.2375      1\n",
       "14.0000     1\n",
       "10.5167     1\n",
       "Name: count, Length: 248, dtype: int64"
      ]
     },
     "execution_count": 25,
     "metadata": {},
     "output_type": "execute_result"
    }
   ],
   "source": [
    "df['Fare'].value_counts()"
   ]
  },
  {
   "cell_type": "markdown",
   "id": "28218e42-c702-44de-a5da-0a478ddba7dc",
   "metadata": {},
   "source": [
    "> El boleto mas adquirido fue el que tuvo un valor de 8 libras esterlinas"
   ]
  },
  {
   "cell_type": "code",
   "execution_count": 26,
   "id": "e455825c-e1cd-4dfb-bf73-37b8715d416f",
   "metadata": {
    "tags": []
   },
   "outputs": [
    {
     "data": {
      "text/plain": [
       "Embarked\n",
       "S    644\n",
       "C    168\n",
       "Q     77\n",
       "Name: count, dtype: int64"
      ]
     },
     "execution_count": 26,
     "metadata": {},
     "output_type": "execute_result"
    }
   ],
   "source": [
    "df['Embarked'].value_counts()"
   ]
  },
  {
   "cell_type": "markdown",
   "id": "ae1b3897-1d05-400f-a61b-4db4e2768170",
   "metadata": {
    "tags": []
   },
   "source": [
    "> En el Puerto de Embarque de Southampton abordaron 644 pasajeros\n",
    "\n",
    "> En el Puerto de Embarque de Cherbourg abordaron 168 pasajeros\n",
    "\n",
    "> En el Puerto de Embarque de Queenstown abordaron 77 pasajeros"
   ]
  },
  {
   "cell_type": "markdown",
   "id": "8a8a5638-d487-40bd-985b-416a6a99bd68",
   "metadata": {},
   "source": [
    "### Relaciones entre columnas"
   ]
  },
  {
   "cell_type": "markdown",
   "id": "7ff81d96-60c9-4038-8fbd-40f2c7f92531",
   "metadata": {},
   "source": [
    "#### Analisis de sobrevientes segun la clase en la que viajaron"
   ]
  },
  {
   "cell_type": "code",
   "execution_count": 33,
   "id": "5a65629f-77fc-461a-bf69-07a72dc6e7df",
   "metadata": {
    "tags": []
   },
   "outputs": [
    {
     "data": {
      "text/plain": [
       "Pclass\n",
       "1    136\n",
       "2     87\n",
       "3    119\n",
       "Name: Survived, dtype: int64"
      ]
     },
     "execution_count": 33,
     "metadata": {},
     "output_type": "execute_result"
    }
   ],
   "source": [
    "df.groupby('Pclass')['Survived'].sum()"
   ]
  },
  {
   "cell_type": "markdown",
   "id": "c8acfd59-d745-473e-a99f-f72f001889b4",
   "metadata": {},
   "source": [
    "#### Analisis\n",
    "- De un total de 216 personas que viajaron en clase 1, sobrevivieron 136\n",
    "- De un total de 184 personas que viajaron en clase 2, sobrevivieron 87\n",
    "- De un total de 491 personas que viajaron en clase 3, sobrevivieron 119"
   ]
  },
  {
   "cell_type": "markdown",
   "id": "0483cf59-c3dc-4358-bfc5-254cc36c7c7c",
   "metadata": {},
   "source": [
    "#### Analisis de sobrevientes segun el sexo"
   ]
  },
  {
   "cell_type": "code",
   "execution_count": 63,
   "id": "d28562b3-f4fd-4270-b4a5-e97cf6fd70a5",
   "metadata": {
    "tags": []
   },
   "outputs": [
    {
     "data": {
      "text/plain": [
       "Sex     Survived\n",
       "female  0            81\n",
       "        1           233\n",
       "male    0           468\n",
       "        1           109\n",
       "Name: Name, dtype: int64"
      ]
     },
     "execution_count": 63,
     "metadata": {},
     "output_type": "execute_result"
    }
   ],
   "source": [
    "df.groupby(['Sex', 'Survived'])['Name'].count()"
   ]
  },
  {
   "cell_type": "markdown",
   "id": "21a248c7-491a-4c85-b70c-d3229c19af80",
   "metadata": {},
   "source": [
    "#### Analisis\n",
    "- De un total de 557 pasajeros masculinos, sobrevivieron 109\n",
    "- De un total de 314 pasajeros femeninos, sobrevivieron 233"
   ]
  },
  {
   "cell_type": "markdown",
   "id": "26dc5121-3e24-4913-b6f2-c7143ad2c8b0",
   "metadata": {
    "tags": []
   },
   "source": [
    "#### Analisis de sobrevientes segun el puerto de embarque"
   ]
  },
  {
   "cell_type": "code",
   "execution_count": 66,
   "id": "0b0b412a-90b7-45d9-bd05-ec58c7eaef9c",
   "metadata": {
    "tags": []
   },
   "outputs": [
    {
     "data": {
      "text/plain": [
       "Survived  Embarked\n",
       "0         C            75\n",
       "          Q            47\n",
       "          S           427\n",
       "1         C            93\n",
       "          Q            30\n",
       "          S           217\n",
       "Name: Name, dtype: int64"
      ]
     },
     "execution_count": 66,
     "metadata": {},
     "output_type": "execute_result"
    }
   ],
   "source": [
    "df.groupby(['Survived', 'Embarked'])['Name'].count()"
   ]
  },
  {
   "cell_type": "markdown",
   "id": "a50a6268-9363-45d8-ae89-d13c14e98c25",
   "metadata": {},
   "source": [
    "#### Analisis\n",
    "- De un total de 644 pasajeros que abordaron en Southampton\n",
    "    1. 427 fallecieron\n",
    "    2. 217 sobrevivieron\n",
    "- De un total de 168 pasajeros que abordaron en Cherbourg\n",
    "    1. 75 fallecieron\n",
    "    2. 93 sobrevivieron\n",
    "- De un total de 77 pasajeron que abordaron en Queenstown\n",
    "    1. 47 fallecieron\n",
    "    2. 30 sobrevivieron"
   ]
  },
  {
   "cell_type": "markdown",
   "id": "76062241-c126-4b42-bb82-1792d0af8a9c",
   "metadata": {},
   "source": [
    "### Manejo de Datos faltantes"
   ]
  },
  {
   "cell_type": "markdown",
   "id": "de5deab9-4caa-4024-8783-d65b52d6e8b6",
   "metadata": {},
   "source": [
    "#### Verificar si hay datos faltantes"
   ]
  },
  {
   "cell_type": "code",
   "execution_count": 78,
   "id": "9409eb91-0530-49ae-8e5d-f309291045dd",
   "metadata": {
    "tags": []
   },
   "outputs": [
    {
     "data": {
      "text/html": [
       "<div>\n",
       "<style scoped>\n",
       "    .dataframe tbody tr th:only-of-type {\n",
       "        vertical-align: middle;\n",
       "    }\n",
       "\n",
       "    .dataframe tbody tr th {\n",
       "        vertical-align: top;\n",
       "    }\n",
       "\n",
       "    .dataframe thead th {\n",
       "        text-align: right;\n",
       "    }\n",
       "</style>\n",
       "<table border=\"1\" class=\"dataframe\">\n",
       "  <thead>\n",
       "    <tr style=\"text-align: right;\">\n",
       "      <th></th>\n",
       "      <th>Survived</th>\n",
       "      <th>Pclass</th>\n",
       "      <th>Name</th>\n",
       "      <th>Sex</th>\n",
       "      <th>Age</th>\n",
       "      <th>SibSp</th>\n",
       "      <th>Parch</th>\n",
       "      <th>Ticket</th>\n",
       "      <th>Fare</th>\n",
       "      <th>Cabin</th>\n",
       "      <th>Embarked</th>\n",
       "    </tr>\n",
       "    <tr>\n",
       "      <th>PassengerId</th>\n",
       "      <th></th>\n",
       "      <th></th>\n",
       "      <th></th>\n",
       "      <th></th>\n",
       "      <th></th>\n",
       "      <th></th>\n",
       "      <th></th>\n",
       "      <th></th>\n",
       "      <th></th>\n",
       "      <th></th>\n",
       "      <th></th>\n",
       "    </tr>\n",
       "  </thead>\n",
       "  <tbody>\n",
       "    <tr>\n",
       "      <th>1</th>\n",
       "      <td>False</td>\n",
       "      <td>False</td>\n",
       "      <td>False</td>\n",
       "      <td>False</td>\n",
       "      <td>False</td>\n",
       "      <td>False</td>\n",
       "      <td>False</td>\n",
       "      <td>False</td>\n",
       "      <td>False</td>\n",
       "      <td>True</td>\n",
       "      <td>False</td>\n",
       "    </tr>\n",
       "    <tr>\n",
       "      <th>2</th>\n",
       "      <td>False</td>\n",
       "      <td>False</td>\n",
       "      <td>False</td>\n",
       "      <td>False</td>\n",
       "      <td>False</td>\n",
       "      <td>False</td>\n",
       "      <td>False</td>\n",
       "      <td>False</td>\n",
       "      <td>False</td>\n",
       "      <td>False</td>\n",
       "      <td>False</td>\n",
       "    </tr>\n",
       "    <tr>\n",
       "      <th>3</th>\n",
       "      <td>False</td>\n",
       "      <td>False</td>\n",
       "      <td>False</td>\n",
       "      <td>False</td>\n",
       "      <td>False</td>\n",
       "      <td>False</td>\n",
       "      <td>False</td>\n",
       "      <td>False</td>\n",
       "      <td>False</td>\n",
       "      <td>True</td>\n",
       "      <td>False</td>\n",
       "    </tr>\n",
       "    <tr>\n",
       "      <th>4</th>\n",
       "      <td>False</td>\n",
       "      <td>False</td>\n",
       "      <td>False</td>\n",
       "      <td>False</td>\n",
       "      <td>False</td>\n",
       "      <td>False</td>\n",
       "      <td>False</td>\n",
       "      <td>False</td>\n",
       "      <td>False</td>\n",
       "      <td>False</td>\n",
       "      <td>False</td>\n",
       "    </tr>\n",
       "    <tr>\n",
       "      <th>5</th>\n",
       "      <td>False</td>\n",
       "      <td>False</td>\n",
       "      <td>False</td>\n",
       "      <td>False</td>\n",
       "      <td>False</td>\n",
       "      <td>False</td>\n",
       "      <td>False</td>\n",
       "      <td>False</td>\n",
       "      <td>False</td>\n",
       "      <td>True</td>\n",
       "      <td>False</td>\n",
       "    </tr>\n",
       "    <tr>\n",
       "      <th>...</th>\n",
       "      <td>...</td>\n",
       "      <td>...</td>\n",
       "      <td>...</td>\n",
       "      <td>...</td>\n",
       "      <td>...</td>\n",
       "      <td>...</td>\n",
       "      <td>...</td>\n",
       "      <td>...</td>\n",
       "      <td>...</td>\n",
       "      <td>...</td>\n",
       "      <td>...</td>\n",
       "    </tr>\n",
       "    <tr>\n",
       "      <th>887</th>\n",
       "      <td>False</td>\n",
       "      <td>False</td>\n",
       "      <td>False</td>\n",
       "      <td>False</td>\n",
       "      <td>False</td>\n",
       "      <td>False</td>\n",
       "      <td>False</td>\n",
       "      <td>False</td>\n",
       "      <td>False</td>\n",
       "      <td>True</td>\n",
       "      <td>False</td>\n",
       "    </tr>\n",
       "    <tr>\n",
       "      <th>888</th>\n",
       "      <td>False</td>\n",
       "      <td>False</td>\n",
       "      <td>False</td>\n",
       "      <td>False</td>\n",
       "      <td>False</td>\n",
       "      <td>False</td>\n",
       "      <td>False</td>\n",
       "      <td>False</td>\n",
       "      <td>False</td>\n",
       "      <td>False</td>\n",
       "      <td>False</td>\n",
       "    </tr>\n",
       "    <tr>\n",
       "      <th>889</th>\n",
       "      <td>False</td>\n",
       "      <td>False</td>\n",
       "      <td>False</td>\n",
       "      <td>False</td>\n",
       "      <td>True</td>\n",
       "      <td>False</td>\n",
       "      <td>False</td>\n",
       "      <td>False</td>\n",
       "      <td>False</td>\n",
       "      <td>True</td>\n",
       "      <td>False</td>\n",
       "    </tr>\n",
       "    <tr>\n",
       "      <th>890</th>\n",
       "      <td>False</td>\n",
       "      <td>False</td>\n",
       "      <td>False</td>\n",
       "      <td>False</td>\n",
       "      <td>False</td>\n",
       "      <td>False</td>\n",
       "      <td>False</td>\n",
       "      <td>False</td>\n",
       "      <td>False</td>\n",
       "      <td>False</td>\n",
       "      <td>False</td>\n",
       "    </tr>\n",
       "    <tr>\n",
       "      <th>891</th>\n",
       "      <td>False</td>\n",
       "      <td>False</td>\n",
       "      <td>False</td>\n",
       "      <td>False</td>\n",
       "      <td>False</td>\n",
       "      <td>False</td>\n",
       "      <td>False</td>\n",
       "      <td>False</td>\n",
       "      <td>False</td>\n",
       "      <td>True</td>\n",
       "      <td>False</td>\n",
       "    </tr>\n",
       "  </tbody>\n",
       "</table>\n",
       "<p>891 rows × 11 columns</p>\n",
       "</div>"
      ],
      "text/plain": [
       "             Survived  Pclass   Name    Sex    Age  SibSp  Parch  Ticket  \\\n",
       "PassengerId                                                                \n",
       "1               False   False  False  False  False  False  False   False   \n",
       "2               False   False  False  False  False  False  False   False   \n",
       "3               False   False  False  False  False  False  False   False   \n",
       "4               False   False  False  False  False  False  False   False   \n",
       "5               False   False  False  False  False  False  False   False   \n",
       "...               ...     ...    ...    ...    ...    ...    ...     ...   \n",
       "887             False   False  False  False  False  False  False   False   \n",
       "888             False   False  False  False  False  False  False   False   \n",
       "889             False   False  False  False   True  False  False   False   \n",
       "890             False   False  False  False  False  False  False   False   \n",
       "891             False   False  False  False  False  False  False   False   \n",
       "\n",
       "              Fare  Cabin  Embarked  \n",
       "PassengerId                          \n",
       "1            False   True     False  \n",
       "2            False  False     False  \n",
       "3            False   True     False  \n",
       "4            False  False     False  \n",
       "5            False   True     False  \n",
       "...            ...    ...       ...  \n",
       "887          False   True     False  \n",
       "888          False  False     False  \n",
       "889          False   True     False  \n",
       "890          False  False     False  \n",
       "891          False   True     False  \n",
       "\n",
       "[891 rows x 11 columns]"
      ]
     },
     "execution_count": 78,
     "metadata": {},
     "output_type": "execute_result"
    }
   ],
   "source": [
    "df.isna()"
   ]
  },
  {
   "cell_type": "markdown",
   "id": "836a135b-3ecc-4b75-9f6f-c8d21070eff0",
   "metadata": {},
   "source": [
    "> Vamos a eliminar la columna **Cabin**, la misma consideramos que no es de gran impacto en nuestro analisis y ademas la misma tiene un gran faltante de datos\n"
   ]
  },
  {
   "cell_type": "markdown",
   "id": "7e4ef77d-195d-405a-b5cf-ad0634a7e5e5",
   "metadata": {},
   "source": [
    "### Eliminar Columna definitivamente"
   ]
  },
  {
   "cell_type": "code",
   "execution_count": 80,
   "id": "287d31db-8040-49d3-b778-f36c1efac337",
   "metadata": {
    "tags": []
   },
   "outputs": [
    {
     "data": {
      "text/html": [
       "<div>\n",
       "<style scoped>\n",
       "    .dataframe tbody tr th:only-of-type {\n",
       "        vertical-align: middle;\n",
       "    }\n",
       "\n",
       "    .dataframe tbody tr th {\n",
       "        vertical-align: top;\n",
       "    }\n",
       "\n",
       "    .dataframe thead th {\n",
       "        text-align: right;\n",
       "    }\n",
       "</style>\n",
       "<table border=\"1\" class=\"dataframe\">\n",
       "  <thead>\n",
       "    <tr style=\"text-align: right;\">\n",
       "      <th></th>\n",
       "      <th>Survived</th>\n",
       "      <th>Pclass</th>\n",
       "      <th>Name</th>\n",
       "      <th>Sex</th>\n",
       "      <th>Age</th>\n",
       "      <th>SibSp</th>\n",
       "      <th>Parch</th>\n",
       "      <th>Ticket</th>\n",
       "      <th>Fare</th>\n",
       "      <th>Embarked</th>\n",
       "    </tr>\n",
       "    <tr>\n",
       "      <th>PassengerId</th>\n",
       "      <th></th>\n",
       "      <th></th>\n",
       "      <th></th>\n",
       "      <th></th>\n",
       "      <th></th>\n",
       "      <th></th>\n",
       "      <th></th>\n",
       "      <th></th>\n",
       "      <th></th>\n",
       "      <th></th>\n",
       "    </tr>\n",
       "  </thead>\n",
       "  <tbody>\n",
       "    <tr>\n",
       "      <th>1</th>\n",
       "      <td>0</td>\n",
       "      <td>3</td>\n",
       "      <td>Braund, Mr. Owen Harris</td>\n",
       "      <td>male</td>\n",
       "      <td>22.0</td>\n",
       "      <td>1</td>\n",
       "      <td>0</td>\n",
       "      <td>A/5 21171</td>\n",
       "      <td>7.2500</td>\n",
       "      <td>S</td>\n",
       "    </tr>\n",
       "    <tr>\n",
       "      <th>2</th>\n",
       "      <td>1</td>\n",
       "      <td>1</td>\n",
       "      <td>Cumings, Mrs. John Bradley (Florence Briggs Th...</td>\n",
       "      <td>female</td>\n",
       "      <td>38.0</td>\n",
       "      <td>1</td>\n",
       "      <td>0</td>\n",
       "      <td>PC 17599</td>\n",
       "      <td>71.2833</td>\n",
       "      <td>C</td>\n",
       "    </tr>\n",
       "    <tr>\n",
       "      <th>3</th>\n",
       "      <td>1</td>\n",
       "      <td>3</td>\n",
       "      <td>Heikkinen, Miss. Laina</td>\n",
       "      <td>female</td>\n",
       "      <td>26.0</td>\n",
       "      <td>0</td>\n",
       "      <td>0</td>\n",
       "      <td>STON/O2. 3101282</td>\n",
       "      <td>7.9250</td>\n",
       "      <td>S</td>\n",
       "    </tr>\n",
       "    <tr>\n",
       "      <th>4</th>\n",
       "      <td>1</td>\n",
       "      <td>1</td>\n",
       "      <td>Futrelle, Mrs. Jacques Heath (Lily May Peel)</td>\n",
       "      <td>female</td>\n",
       "      <td>35.0</td>\n",
       "      <td>1</td>\n",
       "      <td>0</td>\n",
       "      <td>113803</td>\n",
       "      <td>53.1000</td>\n",
       "      <td>S</td>\n",
       "    </tr>\n",
       "    <tr>\n",
       "      <th>5</th>\n",
       "      <td>0</td>\n",
       "      <td>3</td>\n",
       "      <td>Allen, Mr. William Henry</td>\n",
       "      <td>male</td>\n",
       "      <td>35.0</td>\n",
       "      <td>0</td>\n",
       "      <td>0</td>\n",
       "      <td>373450</td>\n",
       "      <td>8.0500</td>\n",
       "      <td>S</td>\n",
       "    </tr>\n",
       "  </tbody>\n",
       "</table>\n",
       "</div>"
      ],
      "text/plain": [
       "             Survived  Pclass  \\\n",
       "PassengerId                     \n",
       "1                   0       3   \n",
       "2                   1       1   \n",
       "3                   1       3   \n",
       "4                   1       1   \n",
       "5                   0       3   \n",
       "\n",
       "                                                          Name     Sex   Age  \\\n",
       "PassengerId                                                                    \n",
       "1                                      Braund, Mr. Owen Harris    male  22.0   \n",
       "2            Cumings, Mrs. John Bradley (Florence Briggs Th...  female  38.0   \n",
       "3                                       Heikkinen, Miss. Laina  female  26.0   \n",
       "4                 Futrelle, Mrs. Jacques Heath (Lily May Peel)  female  35.0   \n",
       "5                                     Allen, Mr. William Henry    male  35.0   \n",
       "\n",
       "             SibSp  Parch            Ticket     Fare Embarked  \n",
       "PassengerId                                                    \n",
       "1                1      0         A/5 21171   7.2500        S  \n",
       "2                1      0          PC 17599  71.2833        C  \n",
       "3                0      0  STON/O2. 3101282   7.9250        S  \n",
       "4                1      0            113803  53.1000        S  \n",
       "5                0      0            373450   8.0500        S  "
      ]
     },
     "execution_count": 80,
     "metadata": {},
     "output_type": "execute_result"
    }
   ],
   "source": [
    "df.drop(columns = 'Cabin', inplace = True)\n",
    "\n",
    "# Mostramos como queda conformada la tabla\n",
    "\n",
    "df.head()"
   ]
  },
  {
   "cell_type": "code",
   "execution_count": 83,
   "id": "720ad738-dd42-4193-aabf-9b33c7b31676",
   "metadata": {
    "tags": []
   },
   "outputs": [
    {
     "name": "stdout",
     "output_type": "stream",
     "text": [
      "<class 'pandas.core.frame.DataFrame'>\n",
      "Index: 891 entries, 1 to 891\n",
      "Data columns (total 10 columns):\n",
      " #   Column    Non-Null Count  Dtype  \n",
      "---  ------    --------------  -----  \n",
      " 0   Survived  891 non-null    int64  \n",
      " 1   Pclass    891 non-null    int64  \n",
      " 2   Name      891 non-null    object \n",
      " 3   Sex       891 non-null    object \n",
      " 4   Age       891 non-null    float64\n",
      " 5   SibSp     891 non-null    int64  \n",
      " 6   Parch     891 non-null    int64  \n",
      " 7   Ticket    891 non-null    object \n",
      " 8   Fare      891 non-null    float64\n",
      " 9   Embarked  889 non-null    object \n",
      "dtypes: float64(2), int64(4), object(4)\n",
      "memory usage: 76.6+ KB\n"
     ]
    }
   ],
   "source": [
    "df.info()\n"
   ]
  },
  {
   "cell_type": "markdown",
   "id": "81ebf463-44d0-4dce-b045-a0c2e7dc1f52",
   "metadata": {},
   "source": [
    "> Aun asi eliminada la columna Cabin, en **Age** tenemos aun datos faltantes, por lo cual no podemos tener los mejores resultados al realizar nuestros analisis"
   ]
  },
  {
   "cell_type": "markdown",
   "id": "33824c5d-e88d-4919-8b08-b0034476c8be",
   "metadata": {},
   "source": [
    "### Opciones de gestionar este problema\n",
    "\n",
    "- **Eliminar registros que no posean el dato en Age**: Esto aminoraria la cantida de registros y modificaria los valores obtenidos en otras columnas, por lo cual no es lo mejor\n",
    "\n",
    "- **Reemplazar el dato faltante por otro que no modifique los valores ya obtenidos**: Esta suele ser la opcion mas viable, debido a que podemos reemplazar los valores faltantes por el **promedio** de las edades, lo cual no modificaria las metricas ya obtenidas en edad y tampoco las medidas estadisticas calculadas en otras columnas"
   ]
  },
  {
   "cell_type": "code",
   "execution_count": 82,
   "id": "e331c7a3-e176-406d-8ff5-ce59177669a7",
   "metadata": {
    "tags": []
   },
   "outputs": [],
   "source": [
    "df['Age'] = df['Age'].fillna(df['Age'].median())"
   ]
  },
  {
   "cell_type": "code",
   "execution_count": 93,
   "id": "a1b81175-7a45-4ca9-a292-726e411b0950",
   "metadata": {
    "tags": []
   },
   "outputs": [
    {
     "data": {
      "text/html": [
       "<div>\n",
       "<style scoped>\n",
       "    .dataframe tbody tr th:only-of-type {\n",
       "        vertical-align: middle;\n",
       "    }\n",
       "\n",
       "    .dataframe tbody tr th {\n",
       "        vertical-align: top;\n",
       "    }\n",
       "\n",
       "    .dataframe thead th {\n",
       "        text-align: right;\n",
       "    }\n",
       "</style>\n",
       "<table border=\"1\" class=\"dataframe\">\n",
       "  <thead>\n",
       "    <tr style=\"text-align: right;\">\n",
       "      <th></th>\n",
       "      <th>Survived</th>\n",
       "      <th>Pclass</th>\n",
       "      <th>Name</th>\n",
       "      <th>Sex</th>\n",
       "      <th>Age</th>\n",
       "      <th>SibSp</th>\n",
       "      <th>Parch</th>\n",
       "      <th>Ticket</th>\n",
       "      <th>Fare</th>\n",
       "      <th>Embarked</th>\n",
       "    </tr>\n",
       "    <tr>\n",
       "      <th>PassengerId</th>\n",
       "      <th></th>\n",
       "      <th></th>\n",
       "      <th></th>\n",
       "      <th></th>\n",
       "      <th></th>\n",
       "      <th></th>\n",
       "      <th></th>\n",
       "      <th></th>\n",
       "      <th></th>\n",
       "      <th></th>\n",
       "    </tr>\n",
       "  </thead>\n",
       "  <tbody>\n",
       "    <tr>\n",
       "      <th>1</th>\n",
       "      <td>0</td>\n",
       "      <td>3</td>\n",
       "      <td>Braund, Mr. Owen Harris</td>\n",
       "      <td>male</td>\n",
       "      <td>22.0</td>\n",
       "      <td>1</td>\n",
       "      <td>0</td>\n",
       "      <td>A/5 21171</td>\n",
       "      <td>7.2500</td>\n",
       "      <td>S</td>\n",
       "    </tr>\n",
       "    <tr>\n",
       "      <th>2</th>\n",
       "      <td>1</td>\n",
       "      <td>1</td>\n",
       "      <td>Cumings, Mrs. John Bradley (Florence Briggs Th...</td>\n",
       "      <td>female</td>\n",
       "      <td>38.0</td>\n",
       "      <td>1</td>\n",
       "      <td>0</td>\n",
       "      <td>PC 17599</td>\n",
       "      <td>71.2833</td>\n",
       "      <td>C</td>\n",
       "    </tr>\n",
       "    <tr>\n",
       "      <th>3</th>\n",
       "      <td>1</td>\n",
       "      <td>3</td>\n",
       "      <td>Heikkinen, Miss. Laina</td>\n",
       "      <td>female</td>\n",
       "      <td>26.0</td>\n",
       "      <td>0</td>\n",
       "      <td>0</td>\n",
       "      <td>STON/O2. 3101282</td>\n",
       "      <td>7.9250</td>\n",
       "      <td>S</td>\n",
       "    </tr>\n",
       "    <tr>\n",
       "      <th>4</th>\n",
       "      <td>1</td>\n",
       "      <td>1</td>\n",
       "      <td>Futrelle, Mrs. Jacques Heath (Lily May Peel)</td>\n",
       "      <td>female</td>\n",
       "      <td>35.0</td>\n",
       "      <td>1</td>\n",
       "      <td>0</td>\n",
       "      <td>113803</td>\n",
       "      <td>53.1000</td>\n",
       "      <td>S</td>\n",
       "    </tr>\n",
       "    <tr>\n",
       "      <th>5</th>\n",
       "      <td>0</td>\n",
       "      <td>3</td>\n",
       "      <td>Allen, Mr. William Henry</td>\n",
       "      <td>male</td>\n",
       "      <td>35.0</td>\n",
       "      <td>0</td>\n",
       "      <td>0</td>\n",
       "      <td>373450</td>\n",
       "      <td>8.0500</td>\n",
       "      <td>S</td>\n",
       "    </tr>\n",
       "  </tbody>\n",
       "</table>\n",
       "</div>"
      ],
      "text/plain": [
       "             Survived  Pclass  \\\n",
       "PassengerId                     \n",
       "1                   0       3   \n",
       "2                   1       1   \n",
       "3                   1       3   \n",
       "4                   1       1   \n",
       "5                   0       3   \n",
       "\n",
       "                                                          Name     Sex   Age  \\\n",
       "PassengerId                                                                    \n",
       "1                                      Braund, Mr. Owen Harris    male  22.0   \n",
       "2            Cumings, Mrs. John Bradley (Florence Briggs Th...  female  38.0   \n",
       "3                                       Heikkinen, Miss. Laina  female  26.0   \n",
       "4                 Futrelle, Mrs. Jacques Heath (Lily May Peel)  female  35.0   \n",
       "5                                     Allen, Mr. William Henry    male  35.0   \n",
       "\n",
       "             SibSp  Parch            Ticket     Fare Embarked  \n",
       "PassengerId                                                    \n",
       "1                1      0         A/5 21171   7.2500        S  \n",
       "2                1      0          PC 17599  71.2833        C  \n",
       "3                0      0  STON/O2. 3101282   7.9250        S  \n",
       "4                1      0            113803  53.1000        S  \n",
       "5                0      0            373450   8.0500        S  "
      ]
     },
     "execution_count": 93,
     "metadata": {},
     "output_type": "execute_result"
    }
   ],
   "source": [
    "df.head()"
   ]
  },
  {
   "cell_type": "markdown",
   "id": "2523ffd7-60c1-422f-aecd-edee0e52a9bf",
   "metadata": {},
   "source": [
    "### Representacion grafica de los resultados obtenidos"
   ]
  },
  {
   "cell_type": "markdown",
   "id": "2b93b284-86e4-4ab6-a082-398a7a08d9af",
   "metadata": {
    "tags": []
   },
   "source": [
    "#### Mediante diferentes graficos vamos a representar la relacion entre valores obtenidos del analisis"
   ]
  },
  {
   "cell_type": "markdown",
   "id": "6a7b3bc8-3532-4bd0-9f70-23f9beee98e7",
   "metadata": {},
   "source": [
    "- #### Total de sobrevivientes por clase"
   ]
  },
  {
   "cell_type": "code",
   "execution_count": 87,
   "id": "25ad3e09-c1b8-4979-9519-fcdf1d4e4e96",
   "metadata": {
    "tags": []
   },
   "outputs": [
    {
     "data": {
      "text/plain": [
       "<Axes: xlabel='Pclass', ylabel='Survived'>"
      ]
     },
     "execution_count": 87,
     "metadata": {},
     "output_type": "execute_result"
    },
    {
     "data": {
      "image/png": "[encoded data removed]",
      "text/plain": [
       "<Figure size 640x480 with 1 Axes>"
      ]
     },
     "metadata": {},
     "output_type": "display_data"
    }
   ],
   "source": [
    "sns.barplot(x='Pclass', y ='Survived' , estimator = np.sum, data=df)\n",
    "\n",
    "# np.sum --> suma los registros"
   ]
  },
  {
   "cell_type": "markdown",
   "id": "2cbb2688-d7cc-493d-aa4a-dbd546a90872",
   "metadata": {},
   "source": [
    "- #### Total de sobrevivientes por clase discriminado por sexo"
   ]
  },
  {
   "cell_type": "code",
   "execution_count": 88,
   "id": "7995611b-d33d-4a20-b76e-48ddef089d16",
   "metadata": {
    "tags": []
   },
   "outputs": [
    {
     "data": {
      "text/plain": [
       "<Axes: xlabel='Pclass', ylabel='Survived'>"
      ]
     },
     "execution_count": 88,
     "metadata": {},
     "output_type": "execute_result"
    },
    {
     "data": {
      "image/png": "[encoded data removed]",
      "text/plain": [
       "<Figure size 640x480 with 1 Axes>"
      ]
     },
     "metadata": {},
     "output_type": "display_data"
    }
   ],
   "source": [
    "\n",
    "sns.barplot(x='Pclass', y ='Survived' , hue ='Sex' , estimator = np.mean, data=df)\n",
    "\n",
    "# hue --> Parametro discriminante | Va a separar el grafico para dar detalles en base a este parametro"
   ]
  },
  {
   "cell_type": "markdown",
   "id": "07920101-7c42-48ff-b4d7-1bda907f4ba7",
   "metadata": {},
   "source": [
    "- #### Distribucion de la edad de los pasajeros - Agrupando edades en 10"
   ]
  },
  {
   "cell_type": "code",
   "execution_count": 89,
   "id": "4ac54fa0-03c4-4830-96a8-25d09c948d1c",
   "metadata": {
    "tags": []
   },
   "outputs": [
    {
     "data": {
      "text/plain": [
       "<Axes: xlabel='Age', ylabel='Count'>"
      ]
     },
     "execution_count": 89,
     "metadata": {},
     "output_type": "execute_result"
    },
    {
     "data": {
      "image/png": "[encoded data removed]",
      "text/plain": [
       "<Figure size 640x480 with 1 Axes>"
      ]
     },
     "metadata": {},
     "output_type": "display_data"
    }
   ],
   "source": [
    "sns.histplot(df['Age'], bins = 10 , kde = False)\n",
    "\n",
    "# bins --> Cantidad de columnas que deseamos que aparezcan en el grafico"
   ]
  },
  {
   "cell_type": "markdown",
   "id": "a1c0965e-0fdc-4263-a7dc-de9e6f26a570",
   "metadata": {},
   "source": [
    "- ### Distribucion de edad"
   ]
  },
  {
   "cell_type": "code",
   "execution_count": 91,
   "id": "00e95891-1bf1-45b5-b455-0bee568c0d42",
   "metadata": {
    "tags": []
   },
   "outputs": [
    {
     "data": {
      "text/plain": [
       "<Axes: ylabel='Age'>"
      ]
     },
     "execution_count": 91,
     "metadata": {},
     "output_type": "execute_result"
    },
    {
     "data": {
      "image/png": "[encoded data removed]",
      "text/plain": [
       "<Figure size 640x480 with 1 Axes>"
      ]
     },
     "metadata": {},
     "output_type": "display_data"
    }
   ],
   "source": [
    "# Boxplot Age\n",
    "sns.boxplot(y = 'Age', orient=\"v\", data =df )\n"
   ]
  },
  {
   "cell_type": "markdown",
   "id": "12fcc618-5aec-48d8-b6fd-00911b819795",
   "metadata": {},
   "source": [
    "- ##### La caja indica que el 50% de nuestros datos abarca esos valores\n",
    "- ##### La linea recta indica la mediana\n",
    "- ##### Los bigotes (inferior y superior) indican la distribucion (min, max) de nuestros valores sin valores atipicos\n",
    "- ##### Los puntos fuera de los bigotes son los datos atipicos"
   ]
  },
  {
   "cell_type": "code",
   "execution_count": null,
   "id": "9f473677-16f9-4362-aa30-d6dc289690bb",
   "metadata": {},
   "outputs": [],
   "source": []
  }
 ],
 "metadata": {
  "kernelspec": {
   "display_name": "Python 3 (ipykernel)",
   "language": "python",
   "name": "python3"
  },
  "language_info": {
   "codemirror_mode": {
    "name": "ipython",
    "version": 3
   },
   "file_extension": ".py",
   "mimetype": "text/x-python",
   "name": "python",
   "nbconvert_exporter": "python",
   "pygments_lexer": "ipython3",
   "version": "3.11.5"
  }
 },
 "nbformat": 4,
 "nbformat_minor": 5
}
